{
  "nbformat": 4,
  "nbformat_minor": 0,
  "metadata": {
    "colab": {
      "provenance": [],
      "authorship_tag": "ABX9TyOLFZ86CuVOelbDCX50BVwT",
      "include_colab_link": true
    },
    "kernelspec": {
      "name": "python3",
      "display_name": "Python 3"
    },
    "language_info": {
      "name": "python"
    }
  },
  "cells": [
    {
      "cell_type": "markdown",
      "metadata": {
        "id": "view-in-github",
        "colab_type": "text"
      },
      "source": [
        "<a href=\"https://colab.research.google.com/github/karhinwiredu/Python-From-Beginner-to-Hero/blob/main/intro_prog.ipynb\" target=\"_parent\"><img src=\"https://colab.research.google.com/assets/colab-badge.svg\" alt=\"Open In Colab\"/></a>"
      ]
    },
    {
      "cell_type": "code",
      "execution_count": null,
      "metadata": {
        "id": "fdd9XrU_MNzq"
      },
      "outputs": [],
      "source": []
    },
    {
      "cell_type": "markdown",
      "source": [
        "# **#WELCOME TO YOUR PROGRAMMING JOURNEY**\n",
        "\n",
        "#### This is a beginner-friendly programming course designed especially for those who have never written a single line of code or anyone looking for a gentle refresher. If you are completely new to programming, you are in the right place!\n",
        "\n",
        "#### In this tutorial, you will learn the very basics of programming. Basically, how to tell a computer what to do by giving it clear instructions. We will use Python to accomplish this task. The world’s most popular programming language for data science, artificial intelligence, web development, and much more.\n",
        "\n",
        "### **Did you know?:\n",
        "#### Python was named after Monty Python’s Flying Circus — a British comedy show! Its creator wanted a language that was fun and easy to read, just like the show’s humor.\n",
        "\n",
        "#### If you already know some Python or programming, feel free to skip ahead to the topics that interest you most.\n",
        "\n",
        "#### Throughout this course, you’ll see lots of simple Python code examples, and best of all — you’ll get hands-on practice by writing your own code. Don’t forget to try all the exercises; that’s the best way to learn!\n",
        "\n",
        "***## Let’s get started and have fun coding!***"
      ],
      "metadata": {
        "id": "cYxY1UvxNUwY"
      }
    }
  ]
}