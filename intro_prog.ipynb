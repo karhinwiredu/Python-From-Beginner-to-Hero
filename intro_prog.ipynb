{
  "nbformat": 4,
  "nbformat_minor": 0,
  "metadata": {
    "colab": {
      "provenance": [],
      "authorship_tag": "ABX9TyPrzvxDqNYK3kNNf7MrhcQf",
      "include_colab_link": true
    },
    "kernelspec": {
      "name": "python3",
      "display_name": "Python 3"
    },
    "language_info": {
      "name": "python"
    }
  },
  "cells": [
    {
      "cell_type": "markdown",
      "metadata": {
        "id": "view-in-github",
        "colab_type": "text"
      },
      "source": [
        "<a href=\"https://colab.research.google.com/github/karhinwiredu/Python-From-Beginner-to-Hero/blob/main/intro_prog.ipynb\" target=\"_parent\"><img src=\"https://colab.research.google.com/assets/colab-badge.svg\" alt=\"Open In Colab\"/></a>"
      ]
    },
    {
      "cell_type": "markdown",
      "source": [
        "# **Beginner to Hero: Python Programming**\n",
        "**Author: Kingsley Arhin-Wiredu**\n",
        "\n",
        "Learn Python from scratch with fun examples and hands-on coding.\n"
      ],
      "metadata": {
        "id": "tJ0ouOVYsykw"
      }
    },
    {
      "cell_type": "markdown",
      "source": [
        "# **Welcome to Your Programming Journey**\n",
        "\n",
        "This is a **beginner-friendly programming course** designed especially for those who have never written a single line of code or anyone looking for a gentle refresher. If you are completely new to programming, you are in the right place!\n",
        "\n",
        "In this tutorial, you will learn the very basics of programming. Basically, how to tell a computer what to do by giving it clear instructions. We will use Python to accomplish this task. The world’s most popular programming language for data science, artificial intelligence, web development, and much more.\n",
        "\n",
        "In this tutorial, we will use **Google Colab** connected to **GitHub** for all our Python work. Both Colab and GitHub are web-based platforms, which means you can write, save, and share your code easily without installing anything on your computer.\n",
        "\n",
        "## **Why is Google Colab preferred?**\n",
        "\n",
        "*   You don’t have to worry about installing Python or any software on your computer, everything runs right in your web browser.\n",
        "* It provides free access to powerful computing resources, including GPUs, which is great if you dive into more advanced projects later.\n",
        "* It makes collaboration easy, you can share your notebooks just like Google Docs.\n",
        "\n",
        "## **GitHub**\n",
        "Github on the other hand, is the world’s leading platform for hosting, managing, and collaborating on code projects.\n",
        "\n",
        "If you don’t already have GitHub or Google Colab accounts, don’t worry, I will guide you step-by-step to set up both accounts and connect them smoothly.\n",
        "\n",
        "## **Did you know?**\n",
        "Python was named after Monty Python’s Flying Circus, a British comedy show! Its creator wanted a language that was fun and easy to read, just like the show’s humor.\n",
        "\n",
        "If you already know some Python or programming, feel free to skip ahead to the topics that interest you most.\n",
        "\n",
        "Throughout this course, you will see lots of simple Python code examples, and best of all, you will get hands-on practice by writing your own code. Don’t forget to try all the exercises; that is the best way to learn!\n",
        "\n",
        "In this tutorial, we will use google collab connected to Github for all our Pythin work, why collab and github, both are web based interfaces, add the benefits and importance.\n",
        "\n",
        "**Let’s get started and have fun coding!**"
      ],
      "metadata": {
        "id": "cYxY1UvxNUwY"
      }
    },
    {
      "cell_type": "markdown",
      "source": [
        "# **Setting Up Your Python Coding Environment**\n",
        "Before we dive into writig Python coding, let us get our tools ready! We will use Google Colab, a free, web-based Python coding environment and Github, the most popular platform for managing and sharing code projects.\n",
        "\n",
        "##**Step: 1 Create Google Accounts(If you dont have one)**\n",
        "* Visit https://accounts.google.com/signup and follow the instructions.\n",
        "\n",
        "##**Step 2: Create Your Github Account**\n",
        "* Visit https://github.com/join and sign up for a free account.\n",
        "\n",
        "##**Step 3: Link Google Cola and Github**\n",
        "* Open a new Colab notebook: https://colab.research.google.com/\n",
        "* Click File > Save a copy in GitHub\n",
        "* Sign in to GitHub when prompted and authorize access\n",
        "* Choose your repository and save the notebook there\n",
        "\n",
        "You are all set!"
      ],
      "metadata": {
        "id": "r1JHpIABXHzV"
      }
    },
    {
      "cell_type": "markdown",
      "source": [
        "# **Your First Python Program: Hello, World!**\n",
        "Let us write your first program, the classic \"Hello, World\" example. This program tell the computer to display the phrase **Hello, World**\n",
        "\n",
        "Type this code into code cell and press command+shift+Enter to run it"
      ],
      "metadata": {
        "id": "er5ogg9Ukek5"
      }
    },
    {
      "cell_type": "code",
      "source": [
        "print(\"Hello, World\")"
      ],
      "metadata": {
        "colab": {
          "base_uri": "https://localhost:8080/"
        },
        "id": "s8H1u38WlDVv",
        "outputId": "2404de42-d8bd-455b-de9b-b3caed2e406d"
      },
      "execution_count": null,
      "outputs": [
        {
          "output_type": "stream",
          "name": "stdout",
          "text": [
            "Hello, World\n"
          ]
        }
      ]
    },
    {
      "cell_type": "markdown",
      "source": [
        "What do you see? Congratulations, you just wrote and ran your first python program.\n",
        "The code is inside a box known as code cell, and the computer's response is called the output of the code. Python Syntax can be ececuted by writing directly in the code cell."
      ],
      "metadata": {
        "id": "gDGJ1B6vlVg_"
      }
    },
    {
      "cell_type": "markdown",
      "source": [
        "# **Python Indentation: Why Spaces Matter**\n",
        "We will kearn about **indentation** in Python.\n",
        "Indentation means adding spaces or tabs at the beginning of a line of code.\n",
        "In many programming languages, indentation is just for making code easier to read. But in Python, indentation is part of the syntax!\n",
        "\n",
        "In many programming languages, indentation is just for making code look nice. But in Python, indentation is part of the rules, it tells Python which lines belong together.\n",
        "\n",
        "Python uses **indentation to define blocks or group of code**.\n",
        "\n",
        "If your indentation is wrong, Python will stop and show you an error.\n",
        "\n",
        "In python:\n",
        "* Each block of code must have the same level of indentation\n",
        "* By convention, **4 spaces** are used per indentation level.\n",
        "* No tabs and spaces mixed: pick one sytle (spaces are preferred)"
      ],
      "metadata": {
        "id": "1dkSj62QmhlK"
      }
    },
    {
      "cell_type": "markdown",
      "source": [
        "Example:"
      ],
      "metadata": {
        "id": "O5WpfedSn5-C"
      }
    },
    {
      "cell_type": "code",
      "source": [
        "print(\"Hello World\")\n",
        "  print(\"This line is indented incorrectly\")"
      ],
      "metadata": {
        "colab": {
          "base_uri": "https://localhost:8080/",
          "height": 105
        },
        "id": "sX0SLKxYpWTa",
        "outputId": "fe1eccfb-e7cd-458b-ef0a-3dae7804edfb"
      },
      "execution_count": null,
      "outputs": [
        {
          "output_type": "error",
          "ename": "IndentationError",
          "evalue": "unexpected indent (ipython-input-259999877.py, line 2)",
          "traceback": [
            "\u001b[0;36m  File \u001b[0;32m\"/tmp/ipython-input-259999877.py\"\u001b[0;36m, line \u001b[0;32m2\u001b[0m\n\u001b[0;31m    print(\"This line is indented incorrectly\")\u001b[0m\n\u001b[0m    ^\u001b[0m\n\u001b[0;31mIndentationError\u001b[0m\u001b[0;31m:\u001b[0m unexpected indent\n"
          ]
        }
      ]
    },
    {
      "cell_type": "markdown",
      "source": [
        "## **What does this Error mean**\n",
        "The error in the selected code is an IndentationError. This happens in Python when lines of code are indented incorrectly. In Python, indentation is used to define blocks of code, and inconsistent or incorrect indentation will cause an error. I will fix this by removing the extra spaces before the second print statement."
      ],
      "metadata": {
        "id": "Wki5H0mxoYOT"
      }
    },
    {
      "cell_type": "code",
      "source": [
        "print(\"Hello World\")\n",
        "print(\"This line is indented correctly\")"
      ],
      "metadata": {
        "colab": {
          "base_uri": "https://localhost:8080/"
        },
        "id": "psBLPnMXqGaZ",
        "outputId": "e3ee0430-24a8-4f89-eb94-aa2f10dd481c"
      },
      "execution_count": null,
      "outputs": [
        {
          "output_type": "stream",
          "name": "stdout",
          "text": [
            "Hello World\n",
            "This line is indented correctly\n"
          ]
        }
      ]
    },
    {
      "cell_type": "markdown",
      "source": [
        "**Tip**: In Python, keep the same indentation level unless you need to indent don’t worry, we will learn exactly when and how to indent properly later in the course"
      ],
      "metadata": {
        "id": "YHr7bnRVqUyq"
      }
    },
    {
      "cell_type": "markdown",
      "source": [
        "#**Hands-on Exercise**\n",
        "Write a code that:\n",
        "* Try printing your name on one line and your favorite color on the next line  without adding unnecessary spaces at the start.\n",
        "Then, intentionally add spaces at the start of the second line and see what happens"
      ],
      "metadata": {
        "id": "Qm0kf6VMAegl"
      }
    },
    {
      "cell_type": "code",
      "source": [],
      "metadata": {
        "id": "RLP8DPRT5tkU"
      },
      "execution_count": null,
      "outputs": []
    },
    {
      "cell_type": "markdown",
      "source": [
        "# **Summary**\n",
        "* Python requires indentation in certain situations.\n",
        "* Indentation must be consistent in a block of code.\n",
        "* Standard indentation is 4 spaces."
      ],
      "metadata": {
        "id": "8uczerufBV8s"
      }
    },
    {
      "cell_type": "markdown",
      "source": [
        "#**Comments in Python**\n",
        "\n",
        "We will learn how to use **comments** in Python. Comments are notes you write in your code to explain what it does.They are *for humans to read*, not for the computer to execute.\n",
        "* Comments starts with a #, and Python will ignore everything after the '#' symbol on that line\n",
        "* Comments can be placed at the end of a line, and Python will ignore the rest of the line\n",
        "\n",
        "\n"
      ],
      "metadata": {
        "id": "zk8_1O8d2ON8"
      }
    },
    {
      "cell_type": "markdown",
      "source": [
        "**Example:**"
      ],
      "metadata": {
        "id": "D7m10QQR6AF2"
      }
    },
    {
      "cell_type": "code",
      "source": [
        "# This is a comment\n",
        "print(\"Hello, World\") # This comment is after the code"
      ],
      "metadata": {
        "colab": {
          "base_uri": "https://localhost:8080/"
        },
        "id": "9K-4Xevj6DE9",
        "outputId": "11b94558-ee3a-40be-e371-5c820b63f159"
      },
      "execution_count": null,
      "outputs": [
        {
          "output_type": "stream",
          "name": "stdout",
          "text": [
            "Hello, World\n"
          ]
        }
      ]
    },
    {
      "cell_type": "markdown",
      "source": [
        "**Tip** Use comments to explain why you wrote the code the way you did, not just what it does."
      ],
      "metadata": {
        "id": "j031Pdft6U_2"
      }
    },
    {
      "cell_type": "markdown",
      "source": [
        "# **Hands-on Exercise**\n",
        "Write a Python program that:\n",
        "* Prints your name.\n",
        "* Has a comment above the print statement describing what the code does.\n",
        "* Adds another comment at the end of the line."
      ],
      "metadata": {
        "id": "pjRSEpZG63H3"
      }
    },
    {
      "cell_type": "code",
      "source": [
        "# Hands on Exercise: Write your code here"
      ],
      "metadata": {
        "id": "V7KIJaAP7NJg"
      },
      "execution_count": null,
      "outputs": []
    },
    {
      "cell_type": "markdown",
      "source": [
        "#**Solution to Exercise**"
      ],
      "metadata": {
        "id": "icutTxpf7yE7"
      }
    },
    {
      "cell_type": "code",
      "source": [
        "# Printing my name\n",
        "print(\"Kingsley Arhin-Wiredu\") # This code print my full name"
      ],
      "metadata": {
        "colab": {
          "base_uri": "https://localhost:8080/"
        },
        "id": "1RGXEuao7vmM",
        "outputId": "ab6eccf4-d61f-44b6-e031-89ea4d3b5db2"
      },
      "execution_count": null,
      "outputs": [
        {
          "output_type": "stream",
          "name": "stdout",
          "text": [
            "Kingsley Arhin-Wiredu\n"
          ]
        }
      ]
    },
    {
      "cell_type": "markdown",
      "source": [
        "#**Variables**\n",
        "We will learn what variables are in Python, how to store information in your program so you can use it later.\n",
        "\n",
        "A variable is like a labeled box where you can store data (like numbers or words). You give the box a name, and then you can put something inside it or take it out anytime you need it."
      ],
      "metadata": {
        "id": "VlvJ66j4FK4s"
      }
    },
    {
      "cell_type": "markdown",
      "source": [
        "Here, name holds the word \"Kingsley\", and age holds the number 42.\n",
        "This example show how variables store different types of data (a string and a number) and how to print them together."
      ],
      "metadata": {
        "id": "k1aO0dXcG2Uo"
      }
    },
    {
      "cell_type": "markdown",
      "source": [
        "**Example**"
      ],
      "metadata": {
        "id": "zDxLNaAtFvO8"
      }
    },
    {
      "cell_type": "markdown",
      "source": [
        "##**Working with Variables in Python**\n",
        "To use a variable, the first step is choosing a good name for it. Variable names should be:\n",
        "* Short and descriptive: so they clearly represent the data they hold.\n",
        "* Without spaces: for example, age years is not allowed.\n",
        "* Can only include letters, numbers, and underscores: so age_years_42 is okay, but age-years! is not allowed.\n",
        "* Must start with a letter or an underscore, names like 42_age_years are not allowed.\n",
        "*Variable names are case-sensitive (age, Age and AGE are three different variables)\n",
        "* Once you've picked a valid name, you use the assignment operator = to give the variable a value."
      ],
      "metadata": {
        "id": "XUMClMkkHbP6"
      }
    },
    {
      "cell_type": "code",
      "source": [
        "name = \"Kingsley Arhin-Wiredu\"\n",
        "age_years = 42\n",
        "print(name, age_years)"
      ],
      "metadata": {
        "colab": {
          "base_uri": "https://localhost:8080/"
        },
        "id": "8NPJQf4DGEaY",
        "outputId": "db4a0dd8-ea5f-4d11-dded-5185c5df7615"
      },
      "execution_count": null,
      "outputs": [
        {
          "output_type": "stream",
          "name": "stdout",
          "text": [
            "Kingsley Arhin-Wiredu 42\n"
          ]
        }
      ]
    },
    {
      "cell_type": "markdown",
      "source": [
        "##**Assigning One Value to Multiple Variables**\n",
        "In Python, you can assign the same value to several variables in one line. This helps keep your code neat and saves time.\n",
        "\n",
        "Note: Make sure the number of variables matches the number of values, or else you will get an error.\n"
      ],
      "metadata": {
        "id": "-ZuCYc4WoJ3-"
      }
    },
    {
      "cell_type": "code",
      "source": [
        "x = y = z = 10\n",
        "print(x, y, z)"
      ],
      "metadata": {
        "colab": {
          "base_uri": "https://localhost:8080/"
        },
        "id": "OHHjI47FG_Lu",
        "outputId": "2c3c2222-6926-4cc7-d68b-b3063dc0ae66"
      },
      "execution_count": null,
      "outputs": [
        {
          "output_type": "stream",
          "name": "stdout",
          "text": [
            "10 10 10\n"
          ]
        }
      ]
    },
    {
      "cell_type": "markdown",
      "source": [
        "## **Many values to Multipe Variables**\n",
        "In python, you can assign different values to multiples variables in s asingle line. Just make sure the numners of variables on the left matches the number of values on the right, otherwise, Python will give an eror!\n",
        "\n",
        "**Note:** Make sure the number of variables matches the number of values, or else you will get an error.\n",
        "\n"
      ],
      "metadata": {
        "id": "_bTGWFLDqncK"
      }
    },
    {
      "cell_type": "markdown",
      "source": [
        "m, v, dc = \"Maryland\", \"Virginia\", \"District of Columbia\"\n",
        "print(m, v, dc)\n"
      ],
      "metadata": {
        "id": "cQ92hOPoobwN"
      }
    },
    {
      "cell_type": "code",
      "source": [
        "m, v, dc = \"Maryland\", \"Virginia\", \"District of Columbia\"\n",
        "print(m, v, dc)"
      ],
      "metadata": {
        "colab": {
          "base_uri": "https://localhost:8080/"
        },
        "id": "6DX3UqYhqNSs",
        "outputId": "cc71cb57-68aa-4654-df14-6a05a3915ade"
      },
      "execution_count": null,
      "outputs": [
        {
          "output_type": "stream",
          "name": "stdout",
          "text": [
            "Maryland Virginia District of Columbia\n"
          ]
        }
      ]
    },
    {
      "cell_type": "markdown",
      "source": [
        "## **Output Variables**\n",
        "In Python, you can use the print() function to display the value of variables. Sometimes, you may want to show multiple variables in one output. Python makes this easy!\n",
        "\n",
        "You can use a comma inside print() to output multiple variables at the same time.\n"
      ],
      "metadata": {
        "id": "dUHvEPv7q6gI"
      }
    },
    {
      "cell_type": "markdown",
      "source": [
        "**Example**"
      ],
      "metadata": {
        "id": "muG9ZAD80rzy"
      }
    },
    {
      "cell_type": "code",
      "source": [
        "name = \"Kingsley\"\n",
        "country = \"Ghana\"\n",
        "residence = \"USA\"\n",
        "occupation= \"Data Scientist\"\n",
        "print(name, country, residence, occupation)"
      ],
      "metadata": {
        "colab": {
          "base_uri": "https://localhost:8080/"
        },
        "id": "jJ_oj43x0vI9",
        "outputId": "7d1e603b-9278-472d-8803-87ee19af78c5"
      },
      "execution_count": null,
      "outputs": [
        {
          "output_type": "stream",
          "name": "stdout",
          "text": [
            "Kingsley Ghana USA Data Scientist\n"
          ]
        }
      ]
    },
    {
      "cell_type": "markdown",
      "source": [
        "Python adds a space between the variables by default."
      ],
      "metadata": {
        "id": "-pemsaK81l3F"
      }
    },
    {
      "cell_type": "markdown",
      "source": [
        "##**Customizing the Output**\n",
        "You can change what separates your variables using the ***sep*** parameter."
      ],
      "metadata": {
        "id": "a4CC7Nug2NkT"
      }
    },
    {
      "cell_type": "code",
      "source": [
        "name = \"Kingsley\"\n",
        "country = \"Ghana\"\n",
        "residence \"USA\"\n",
        "Occupation = \"Data Scientist\"\n",
        "print(name, country, residence, occupation, sep=\", \")"
      ],
      "metadata": {
        "colab": {
          "base_uri": "https://localhost:8080/"
        },
        "id": "yrZ2fR0t2S2V",
        "outputId": "3f89d221-9487-4341-ea59-d48e96e69868"
      },
      "execution_count": null,
      "outputs": [
        {
          "output_type": "stream",
          "name": "stdout",
          "text": [
            "Kingsley, Ghana, USA, Data Scientist\n"
          ]
        }
      ]
    },
    {
      "cell_type": "markdown",
      "source": [
        "## **Combining Text and Variables**\n",
        "If you want to combine strings and variables, you can use the + operator.\n",
        "Example:"
      ],
      "metadata": {
        "id": "O_8BZdbp3AJq"
      }
    },
    {
      "cell_type": "markdown",
      "source": [
        "**Example:**"
      ],
      "metadata": {
        "id": "HOCafqWP3jcn"
      }
    },
    {
      "cell_type": "code",
      "source": [
        "name = \"Kingsley\"\n",
        "print(\"Hello, me name is \" + name)"
      ],
      "metadata": {
        "colab": {
          "base_uri": "https://localhost:8080/"
        },
        "id": "wjuDhsVy35YK",
        "outputId": "155e2655-d955-4d04-8e95-c75ab9ef4514"
      },
      "execution_count": null,
      "outputs": [
        {
          "output_type": "stream",
          "name": "stdout",
          "text": [
            "Hello, me name is Kingsley\n"
          ]
        }
      ]
    },
    {
      "cell_type": "markdown",
      "source": [
        "**Important:** Notice the space after *is* in the text \"*Hello, my name is \"*.\n",
        "\n",
        "If you forget the space, your words and variable will stick together:"
      ],
      "metadata": {
        "id": "8ONnNOqc3mzH"
      }
    },
    {
      "cell_type": "code",
      "source": [
        "name = \"Kingsley\"\n",
        "print(\"Hello, my name is\" + name)"
      ],
      "metadata": {
        "colab": {
          "base_uri": "https://localhost:8080/"
        },
        "id": "gy2FJPxs4RHl",
        "outputId": "4cb61766-0ea4-47cc-c991-77982d1551f8"
      },
      "execution_count": null,
      "outputs": [
        {
          "output_type": "stream",
          "name": "stdout",
          "text": [
            "Hello, my name isKingsley\n"
          ]
        }
      ]
    },
    {
      "cell_type": "markdown",
      "source": [
        "**Tip**: You can avoid space issues by:\n",
        "* Adding the space inside the text (as we did in the first example), or\n",
        "* Using commas in print(): as in the example below\n",
        "\n",
        "Spaces are part of your text. If you leave them out, Python won’t add them for you."
      ],
      "metadata": {
        "id": "yHcBQpzi6Cue"
      }
    },
    {
      "cell_type": "code",
      "source": [
        "name = \"Kingsley\"\n",
        "print(\"Hello, my name is\", name)\n"
      ],
      "metadata": {
        "colab": {
          "base_uri": "https://localhost:8080/"
        },
        "id": "DBvza08E6OOy",
        "outputId": "cdfe94c2-2c09-4fb8-f2cf-01ae7a8bcad4"
      },
      "execution_count": null,
      "outputs": [
        {
          "output_type": "stream",
          "name": "stdout",
          "text": [
            "Hello, my name is Kingsley\n"
          ]
        }
      ]
    },
    {
      "cell_type": "markdown",
      "source": [
        "## **Hands-on Exercise**\n",
        "* Create two variables: first_name and last_name with your own name.\n",
        "* Print them on one line separated by a dash (-).\n",
        "* Create a variable year with the current year and print a sentence like: \"The year is 2025\"."
      ],
      "metadata": {
        "id": "2JIQO7b17yRR"
      }
    },
    {
      "cell_type": "markdown",
      "source": [
        "## **Solution**:\n"
      ],
      "metadata": {
        "id": "HY6NySv68RgT"
      }
    },
    {
      "cell_type": "code",
      "source": [
        "first_name = \"Kingsley\"\n",
        "last_name = \"Arhin Wiredu\"\n",
        "print(first_name, last_name, sep=\"-\")"
      ],
      "metadata": {
        "colab": {
          "base_uri": "https://localhost:8080/"
        },
        "id": "_O8pWiwD9P8y",
        "outputId": "8e09915a-94c7-4382-81af-9734fc6570b7"
      },
      "execution_count": null,
      "outputs": [
        {
          "output_type": "stream",
          "name": "stdout",
          "text": [
            "Kingsley-Arhin Wiredu\n"
          ]
        }
      ]
    },
    {
      "cell_type": "code",
      "source": [
        "year = 2025\n",
        "print(\"The year is\", year)"
      ],
      "metadata": {
        "colab": {
          "base_uri": "https://localhost:8080/"
        },
        "id": "8lXX7ST09kgy",
        "outputId": "202483f3-431b-4073-beda-27c49d8ce602"
      },
      "execution_count": null,
      "outputs": [
        {
          "output_type": "stream",
          "name": "stdout",
          "text": [
            "The year is 2025\n"
          ]
        }
      ]
    },
    {
      "cell_type": "markdown",
      "source": [
        "#**Functions**\n",
        "A function is a reusable block of code that performs a specific task. Functions help make your code modular, readable, and reusable.\n",
        "\n",
        "A function is like your jollof recipe, it tells you exactly what to do to make jollof every time, so you don’t have to remember everything from scratch.\n",
        "You give it ingredients (parameters): rice, onion,tomatoes, meat, oil, etc.\n",
        "\n",
        "You follow the steps (the code inside the function): wash, boil, mix.\n",
        "At the end, you get the final dish (return value), delicious jollof ready to serve.\n",
        "Every time you want jollof, you just call the recipe, no need to redo everything from the start.\n",
        "\n",
        "So in programming terms:\n",
        "* Function = recipe or helper\n",
        "* Parameters = ingredients\n",
        "* Code inside function = cooking steps\n",
        "* Return = the finished meal you serve"
      ],
      "metadata": {
        "id": "2DkKeq3FK45V"
      }
    },
    {
      "cell_type": "markdown",
      "source": [
        "How to Define a Function"
      ],
      "metadata": {
        "id": "uUm6VcSDNw_p"
      }
    },
    {
      "cell_type": "code",
      "source": [
        "def function_name(parameters):\n",
        "    # code block: code inside the function\n",
        "    output=return_value\n",
        "    return output\n",
        "\n"
      ],
      "metadata": {
        "id": "yOjkSCXSNQCy"
      },
      "execution_count": null,
      "outputs": []
    },
    {
      "cell_type": "markdown",
      "source": [
        "**Key points**\n",
        "* You define a function with def and give it a name.\n",
        "* You specify parameters if your function needs inputs (can be zerio or more).\n",
        "* Inside the function, you write the code to do some work( the function runs the code indented under it)\n",
        "* You prepare the output (result).\n",
        "* You return the output so other parts of your program can use it."
      ],
      "metadata": {
        "id": "azveyf61QBum"
      }
    },
    {
      "cell_type": "markdown",
      "source": [
        "**Simple Example: No Parameters, No Return:**"
      ],
      "metadata": {
        "id": "gVRj6MT5Usqd"
      }
    },
    {
      "cell_type": "code",
      "source": [
        "def greet():\n",
        "    print(\"Hello, World\")\n",
        "\n",
        "# Let us now call the function by function name \"greet()\"\n",
        "greet()"
      ],
      "metadata": {
        "colab": {
          "base_uri": "https://localhost:8080/"
        },
        "id": "UjqSc1QeUsPT",
        "outputId": "4591a67c-bd0a-463b-f303-a7671a8f7d6b"
      },
      "execution_count": 27,
      "outputs": [
        {
          "output_type": "stream",
          "name": "stdout",
          "text": [
            "Hello, World\n"
          ]
        }
      ]
    },
    {
      "cell_type": "markdown",
      "source": [
        "**Simple Example: Functions with Parameters**"
      ],
      "metadata": {
        "id": "G1umy-yYVCCp"
      }
    },
    {
      "cell_type": "code",
      "source": [
        "def greet(name):\n",
        "    print(\"Hello\", name)\n",
        "\n",
        "greet(\"Kingsley\")"
      ],
      "metadata": {
        "colab": {
          "base_uri": "https://localhost:8080/"
        },
        "id": "zpvaaIGBU_0H",
        "outputId": "052beb06-ee44-474a-9d06-ecb851b3225f"
      },
      "execution_count": 30,
      "outputs": [
        {
          "output_type": "stream",
          "name": "stdout",
          "text": [
            "Hello Kingsley\n"
          ]
        }
      ]
    },
    {
      "cell_type": "markdown",
      "source": [
        "**Simple Example: Function with Return Values**"
      ],
      "metadata": {
        "id": "r5nipjphUBhN"
      }
    },
    {
      "cell_type": "code",
      "source": [
        "def greet(name):\n",
        "    # This function says hello to the person whose name is given\n",
        "    greeting = \"Hello, \" + name + \"!\"\n",
        "    return greeting\n",
        "\n",
        "# Example of using the function\n",
        "message = greet(\"Kingsley\")\n",
        "print(message)"
      ],
      "metadata": {
        "colab": {
          "base_uri": "https://localhost:8080/"
        },
        "id": "mjGgr3_ERMzJ",
        "outputId": "d676540e-967a-4560-a3cd-3f63b16db0bb"
      },
      "execution_count": 23,
      "outputs": [
        {
          "output_type": "stream",
          "name": "stdout",
          "text": [
            "Hello, Kingsley!\n"
          ]
        }
      ]
    },
    {
      "cell_type": "markdown",
      "source": [
        "**What happens here:**\n",
        "* def greet(name):\n",
        "* We define a function called greet that takes one input, called name.\n",
        "* Inside the function, we create a message that says \"Hello, \" plus the name you give, plus \"!\".\n",
        "* return greeting sends that message back to whoever called the function.\n",
        "* Outside the function, we call greet(\"Kingsley\") and save the result in the variable message.\n",
        "* Finally, we print the message, so you see Hello, Kingsley!."
      ],
      "metadata": {
        "id": "DWVXJRM5TMjB"
      }
    },
    {
      "cell_type": "markdown",
      "source": [
        "## **Data Types**\n",
        "A data type tells Python what kind of information we are working with.\n",
        "\n",
        "Why does this matter?\n",
        "* Different types of data are used for different tasks.\n",
        "* You can’t do the same operations on all types.\n",
        "\n",
        "**Example:** You can add two numbers, but you can’t add a number and a picture!\n",
        "\n",
        "Think of it like different boxes for different kinds of things:\n",
        "* A fruit basket (holds fruits)\n",
        "* A toolbox (holds tools)\n",
        "* A money wallet (holds cash)\n",
        "\n",
        "Each box is a different data type.\n",
        "\n",
        "\n",
        "\n",
        "**Different Types of Data in Python**\n",
        "\n",
        "There are different types of data in Python, namely:\n",
        "* Integers (int) : whole numbers like 5, -10, or 0\n",
        "* Floats (float) : numbers with decimals like 3.14 or -0.5\n",
        "* Booleans (bool) : true or false values (True or False)\n",
        "* Strings (str) : text or words inside quotes, like \"Hello\" or 'Python'\n",
        "* Lists (list) : ordered collections of items, like [1, 2, 3]\n",
        "* Tuples (tuple) : ordered, unchangeable collections, like (4, 5, 6)\n",
        "* Sets (set) : unordered collections with no duplicates, like {1, 2, 3}\n",
        "* Dictionaries (dict) : collections of key-value pairs, like {\"name\": \"Alice\", \"age\": 25}\n",
        "\n",
        "In the subsequent sections, we will delve deeper into each type of data, exploring their definitions, examples, and how to use them in Python code."
      ],
      "metadata": {
        "id": "9FRBaTfJSuYA"
      }
    },
    {
      "cell_type": "markdown",
      "source": [
        "**Integers**\n",
        "\n",
        "Integers are whole numbers — numbers without a decimal point.\n",
        "\n",
        "They can be:\n",
        "\n",
        "* Positive (e.g., 5)\n",
        "* Negative (e.g., -2)\n",
        "* Zero (0)\n",
        "\n",
        "Real-life examples:\n",
        "* Age: 25\n",
        "* Number of books: 10\n",
        "* Temperature: -5"
      ],
      "metadata": {
        "id": "PmBkmELTWW98"
      }
    }
  ]
}