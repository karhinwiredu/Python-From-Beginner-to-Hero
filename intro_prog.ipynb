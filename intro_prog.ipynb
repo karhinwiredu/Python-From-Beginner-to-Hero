{
  "nbformat": 4,
  "nbformat_minor": 0,
  "metadata": {
    "colab": {
      "provenance": [],
      "authorship_tag": "ABX9TyPvhaeljCVCGUYmp28jYj+w",
      "include_colab_link": true
    },
    "kernelspec": {
      "name": "python3",
      "display_name": "Python 3"
    },
    "language_info": {
      "name": "python"
    }
  },
  "cells": [
    {
      "cell_type": "markdown",
      "metadata": {
        "id": "view-in-github",
        "colab_type": "text"
      },
      "source": [
        "<a href=\"https://colab.research.google.com/github/karhinwiredu/Python-From-Beginner-to-Hero/blob/main/intro_prog.ipynb\" target=\"_parent\"><img src=\"https://colab.research.google.com/assets/colab-badge.svg\" alt=\"Open In Colab\"/></a>"
      ]
    },
    {
      "cell_type": "code",
      "execution_count": null,
      "metadata": {
        "id": "fdd9XrU_MNzq"
      },
      "outputs": [],
      "source": []
    },
    {
      "cell_type": "markdown",
      "source": [
        "# **#WELCOME TO YOUR PROGRAMMING JOURNEY**\n",
        "\n",
        "#### This is a beginner-friendly programming course designed especially for those who have never written a single line of code or anyone looking for a gentle refresher. If you are completely new to programming, you are in the right place!\n",
        "\n",
        "#### In this tutorial, you will learn the very basics of programming. Basically, how to tell a computer what to do by giving it clear instructions. We will use Python to accomplish this task. The world’s most popular programming language for data science, artificial intelligence, web development, and much more.\n",
        "\n",
        "#### In this tutorial, we will use Google Colab connected to GitHub for all our Python work. Both Colab and GitHub are web-based platforms, which means you can write, save, and share your code easily without installing anything on your computer.\n",
        "\n",
        "### **Why is Google Colab preferred?**\n",
        "\n",
        "####  \n",
        "\n",
        "*   You don’t have to worry about installing Python or any software on your computer — everything runs right in your web browser.\n",
        "* It provides free access to powerful computing resources, including GPUs, which is great if you dive into more advanced projects later.\n",
        "* It makes collaboration easy, you can share your notebooks just like Google Docs.\n",
        "\n",
        "### **GitHub**, #### on the other hand, is the world’s leading platform for hosting, managing, and collaborating on code projects.\n",
        "\n",
        "#### If you don’t already have GitHub or Google Colab accounts, don’t worry — I’ll guide you step-by-step to set up both accounts and connect them smoothly.\n",
        "\n",
        "### **Did you know?:\n",
        "#### Python was named after Monty Python’s Flying Circus, a British comedy show! Its creator wanted a language that was fun and easy to read, just like the show’s humor.\n",
        "\n",
        "#### If you already know some Python or programming, feel free to skip ahead to the topics that interest you most.\n",
        "\n",
        "#### Throughout this course, you will see lots of simple Python code examples, and best of all, you will get hands-on practice by writing your own code. Don’t forget to try all the exercises; that is the best way to learn!\n",
        "\n",
        "####In this tutorial, we will use google collab connected to Github for all our Pythin work, why collab and github, both are web based interfaces, add the benefits and importance.\n",
        "***## Let’s get started and have fun coding!***"
      ],
      "metadata": {
        "id": "cYxY1UvxNUwY"
      }
    }
  ]
}