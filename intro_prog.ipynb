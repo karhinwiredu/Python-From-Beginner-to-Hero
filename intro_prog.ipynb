{
  "nbformat": 4,
  "nbformat_minor": 0,
  "metadata": {
    "colab": {
      "provenance": [],
      "authorship_tag": "ABX9TyO6btI6NTkJyEVA39fja7qs",
      "include_colab_link": true
    },
    "kernelspec": {
      "name": "python3",
      "display_name": "Python 3"
    },
    "language_info": {
      "name": "python"
    }
  },
  "cells": [
    {
      "cell_type": "markdown",
      "metadata": {
        "id": "view-in-github",
        "colab_type": "text"
      },
      "source": [
        "<a href=\"https://colab.research.google.com/github/karhinwiredu/Python-From-Beginner-to-Hero/blob/main/intro_prog.ipynb\" target=\"_parent\"><img src=\"https://colab.research.google.com/assets/colab-badge.svg\" alt=\"Open In Colab\"/></a>"
      ]
    },
    {
      "cell_type": "code",
      "execution_count": null,
      "metadata": {
        "id": "fdd9XrU_MNzq"
      },
      "outputs": [],
      "source": []
    },
    {
      "cell_type": "markdown",
      "source": [
        "#INTRODUCTION TO PROGRAMMING\n",
        "### This is an introductory course to programming. The target audience of this course are those who have do not know programming, have never written a line of code or those wants to take a refresher course in programming.\n",
        "\n",
        "### This tutorial will teach very basic basics of programming, especially, telling a computer to perform certain tasks for you. The main language for this tutorial is PYTHON since it is the most popular programming language for data science. If you are already familiar with programming or Pythin, you can skip this to other content you find relevant,\n",
        "\n",
        "### Several examples of Pythoin codes will be demonstrated and learnt in this tutorials. In addition, you will get the chance to practice coding. I encourage you to complete the exercises."
      ],
      "metadata": {
        "id": "cYxY1UvxNUwY"
      }
    }
  ]
}