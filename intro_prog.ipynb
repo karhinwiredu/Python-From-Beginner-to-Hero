{
  "nbformat": 4,
  "nbformat_minor": 0,
  "metadata": {
    "colab": {
      "provenance": [],
      "authorship_tag": "ABX9TyPk72tsmQ2kYk50YtcNtiyx",
      "include_colab_link": true
    },
    "kernelspec": {
      "name": "python3",
      "display_name": "Python 3"
    },
    "language_info": {
      "name": "python"
    }
  },
  "cells": [
    {
      "cell_type": "markdown",
      "metadata": {
        "id": "view-in-github",
        "colab_type": "text"
      },
      "source": [
        "<a href=\"https://colab.research.google.com/github/karhinwiredu/Python-From-Beginner-to-Hero/blob/main/intro_prog.ipynb\" target=\"_parent\"><img src=\"https://colab.research.google.com/assets/colab-badge.svg\" alt=\"Open In Colab\"/></a>"
      ]
    },
    {
      "cell_type": "markdown",
      "source": [
        "# **Beginner to Hero: Python Programming**\n",
        "**Author: Kingsley Arhin-Wiredu**\n",
        "\n",
        "Learn Python from scratch with fun examples and hands-on coding.\n"
      ],
      "metadata": {
        "id": "tJ0ouOVYsykw"
      }
    },
    {
      "cell_type": "markdown",
      "source": [
        "# **Welcome to Your Programming Journey**\n",
        "\n",
        "This is a **beginner-friendly programming course** designed especially for those who have never written a single line of code or anyone looking for a gentle refresher. If you are completely new to programming, you are in the right place!\n",
        "\n",
        "In this tutorial, you will learn the very basics of programming. Basically, how to tell a computer what to do by giving it clear instructions. We will use Python to accomplish this task. The world’s most popular programming language for data science, artificial intelligence, web development, and much more.\n",
        "\n",
        "In this tutorial, we will use **Google Colab** connected to **GitHub** for all our Python work. Both Colab and GitHub are web-based platforms, which means you can write, save, and share your code easily without installing anything on your computer.\n",
        "\n",
        "## **Why is Google Colab preferred?**\n",
        "\n",
        "*   You don’t have to worry about installing Python or any software on your computer, everything runs right in your web browser.\n",
        "* It provides free access to powerful computing resources, including GPUs, which is great if you dive into more advanced projects later.\n",
        "* It makes collaboration easy, you can share your notebooks just like Google Docs.\n",
        "\n",
        "## **GitHub**\n",
        "Github on the other hand, is the world’s leading platform for hosting, managing, and collaborating on code projects.\n",
        "\n",
        "If you don’t already have GitHub or Google Colab accounts, don’t worry, I will guide you step-by-step to set up both accounts and connect them smoothly.\n",
        "\n",
        "## **Did you know?**\n",
        "Python was named after Monty Python’s Flying Circus, a British comedy show! Its creator wanted a language that was fun and easy to read, just like the show’s humor.\n",
        "\n",
        "If you already know some Python or programming, feel free to skip ahead to the topics that interest you most.\n",
        "\n",
        "Throughout this course, you will see lots of simple Python code examples, and best of all, you will get hands-on practice by writing your own code. Don’t forget to try all the exercises; that is the best way to learn!\n",
        "\n",
        "In this tutorial, we will use google collab connected to Github for all our Pythin work, why collab and github, both are web based interfaces, add the benefits and importance.\n",
        "\n",
        "***## Let’s get started and have fun coding!***"
      ],
      "metadata": {
        "id": "cYxY1UvxNUwY"
      }
    },
    {
      "cell_type": "markdown",
      "source": [],
      "metadata": {
        "id": "mWoOiNcv2N6c"
      }
    },
    {
      "cell_type": "markdown",
      "source": [
        "# **Setting Up Your Python Coding Environment**\n",
        "Before we dive into writig Python coding, let us get our tools ready! We will use Google Colab, a free, web-based Python coding environment and Github, the most popular platform for managing and sharing code projects.\n",
        "\n",
        "##**Step: 1 Create Google Accounts(If you dont have one)**\n",
        "* Visit https://accounts.google.com/signup and follow the instructions.\n",
        "\n",
        "##**Step 2: Create Your Github Account**\n",
        "* Visit https://github.com/join and sign up for a free account.\n",
        "\n",
        "##**Step 3: Link Google Cola and Github**\n",
        "* Open a new Colab notebook: https://colab.research.google.com/\n",
        "* Click File > Save a copy in GitHub\n",
        "* Sign in to GitHub when prompted and authorize access\n",
        "* Choose your repository and save the notebook there\n",
        "\n",
        "You are all set!"
      ],
      "metadata": {
        "id": "r1JHpIABXHzV"
      }
    },
    {
      "cell_type": "markdown",
      "source": [
        "# **Your First Python Program: Hello, World!**\n",
        "Let us write your first program, the classic \"Hello, World\" example. This program tell the computer to display the phrase **Hello, World**\n",
        "\n",
        "Type this code into code cell and press command+shift+Enter to run it"
      ],
      "metadata": {
        "id": "er5ogg9Ukek5"
      }
    },
    {
      "cell_type": "code",
      "source": [
        "print(\"Hello, World\")"
      ],
      "metadata": {
        "colab": {
          "base_uri": "https://localhost:8080/"
        },
        "id": "s8H1u38WlDVv",
        "outputId": "2404de42-d8bd-455b-de9b-b3caed2e406d"
      },
      "execution_count": 1,
      "outputs": [
        {
          "output_type": "stream",
          "name": "stdout",
          "text": [
            "Hello, World\n"
          ]
        }
      ]
    },
    {
      "cell_type": "markdown",
      "source": [
        "What do you see? Congratulations, you just wrote and ran your first python program.\n",
        "The code is inside a box known as code cell, and the computer's response is called the output of the code. Python Syntax can be ececuted by writing directly in the code cell."
      ],
      "metadata": {
        "id": "gDGJ1B6vlVg_"
      }
    },
    {
      "cell_type": "markdown",
      "source": [
        "# **Python Indentation: Why Spaces Matter**\n",
        "We will kearn about **indentation** in Python.\n",
        "Indentation means adding spaces or tabs at the beginning of a line of code.\n",
        "In many programming languages, indentation is just for making code easier to read. But in Python, indentation is part of the syntax!\n",
        "\n",
        "In many programming languages, indentation is just for making code look nice. But in Python, indentation is part of the rules, it tells Python which lines belong together.\n",
        "\n",
        "Python uses **indentation to define blocks or group of code**.\n",
        "\n",
        "If your indentation is wrong, Python will stop and show you an error.\n",
        "\n",
        "In python:\n",
        "* Each block of code must have the same level of indentation\n",
        "* By convention, **4 spaces** are used per indentation level.\n",
        "* No tabs and spaces mixed: pick one sytle (spaces are preferred)"
      ],
      "metadata": {
        "id": "1dkSj62QmhlK"
      }
    },
    {
      "cell_type": "markdown",
      "source": [
        "Example:"
      ],
      "metadata": {
        "id": "O5WpfedSn5-C"
      }
    },
    {
      "cell_type": "code",
      "source": [
        "print(\"Hello World\")\n",
        "  print(\"This line is indented incorrectly\")"
      ],
      "metadata": {
        "colab": {
          "base_uri": "https://localhost:8080/",
          "height": 105
        },
        "id": "sX0SLKxYpWTa",
        "outputId": "fe1eccfb-e7cd-458b-ef0a-3dae7804edfb"
      },
      "execution_count": 9,
      "outputs": [
        {
          "output_type": "error",
          "ename": "IndentationError",
          "evalue": "unexpected indent (ipython-input-259999877.py, line 2)",
          "traceback": [
            "\u001b[0;36m  File \u001b[0;32m\"/tmp/ipython-input-259999877.py\"\u001b[0;36m, line \u001b[0;32m2\u001b[0m\n\u001b[0;31m    print(\"This line is indented incorrectly\")\u001b[0m\n\u001b[0m    ^\u001b[0m\n\u001b[0;31mIndentationError\u001b[0m\u001b[0;31m:\u001b[0m unexpected indent\n"
          ]
        }
      ]
    },
    {
      "cell_type": "markdown",
      "source": [
        "## **What does this Error mean**\n",
        "The error in the selected code is an IndentationError. This happens in Python when lines of code are indented incorrectly. In Python, indentation is used to define blocks of code, and inconsistent or incorrect indentation will cause an error. I will fix this by removing the extra spaces before the second print statement."
      ],
      "metadata": {
        "id": "Wki5H0mxoYOT"
      }
    },
    {
      "cell_type": "code",
      "source": [
        "print(\"Hello World\")\n",
        "print(\"This line is indented correctly\")"
      ],
      "metadata": {
        "colab": {
          "base_uri": "https://localhost:8080/"
        },
        "id": "psBLPnMXqGaZ",
        "outputId": "e3ee0430-24a8-4f89-eb94-aa2f10dd481c"
      },
      "execution_count": 10,
      "outputs": [
        {
          "output_type": "stream",
          "name": "stdout",
          "text": [
            "Hello World\n",
            "This line is indented correctly\n"
          ]
        }
      ]
    },
    {
      "cell_type": "markdown",
      "source": [
        "**Tip**: In Python, keep the same indentation level unless you need to indent don’t worry, we will learn exactly when and how to indent properly later in the course"
      ],
      "metadata": {
        "id": "YHr7bnRVqUyq"
      }
    },
    {
      "cell_type": "markdown",
      "source": [
        "#**Hands-on Exercise**\n",
        "Write a code that:\n",
        "* Try printing your name on one line and your favorite color on the next line  without adding unnecessary spaces at the start.\n",
        "Then, intentionally add spaces at the start of the second line and see what happens"
      ],
      "metadata": {
        "id": "Qm0kf6VMAegl"
      }
    },
    {
      "cell_type": "code",
      "source": [],
      "metadata": {
        "id": "RLP8DPRT5tkU"
      },
      "execution_count": null,
      "outputs": []
    },
    {
      "cell_type": "markdown",
      "source": [
        "# **Summary**\n",
        "* Python requires indentation in certain situations.\n",
        "* Indentation must be consistent in a block of code.\n",
        "* Standard indentation is 4 spaces."
      ],
      "metadata": {
        "id": "8uczerufBV8s"
      }
    },
    {
      "cell_type": "markdown",
      "source": [
        "#**Comments in Python**\n",
        "\n",
        "We will learn how to use **comments** in Python. Comments are notes you write in your code to explain what it does.They are *for humans to read*, not for the computer to execute.\n",
        "* Comments starts with a #, and Python will ignore everything after the '#' symbol on that line\n",
        "* Comments can be placed at the end of a line, and Python will ignore the rest of the line\n",
        "\n",
        "\n"
      ],
      "metadata": {
        "id": "zk8_1O8d2ON8"
      }
    },
    {
      "cell_type": "markdown",
      "source": [
        "**Example:**"
      ],
      "metadata": {
        "id": "D7m10QQR6AF2"
      }
    },
    {
      "cell_type": "code",
      "source": [
        "# This is a comment\n",
        "print(\"Hello, World\") # This comment is after the code"
      ],
      "metadata": {
        "colab": {
          "base_uri": "https://localhost:8080/"
        },
        "id": "9K-4Xevj6DE9",
        "outputId": "11b94558-ee3a-40be-e371-5c820b63f159"
      },
      "execution_count": 14,
      "outputs": [
        {
          "output_type": "stream",
          "name": "stdout",
          "text": [
            "Hello, World\n"
          ]
        }
      ]
    },
    {
      "cell_type": "markdown",
      "source": [
        "**Tip** Use comments to explain why you wrote the code the way you did, not just what it does."
      ],
      "metadata": {
        "id": "j031Pdft6U_2"
      }
    },
    {
      "cell_type": "markdown",
      "source": [
        "# **Hands-on Exercise**\n",
        "Write a Python program that:\n",
        "* Prints your name.\n",
        "* Has a comment above the print statement describing what the code does.\n",
        "* Adds another comment at the end of the line."
      ],
      "metadata": {
        "id": "pjRSEpZG63H3"
      }
    },
    {
      "cell_type": "code",
      "source": [
        "# Hands on Exercise: Write your code here"
      ],
      "metadata": {
        "id": "V7KIJaAP7NJg"
      },
      "execution_count": null,
      "outputs": []
    },
    {
      "cell_type": "markdown",
      "source": [
        "#**Solution to Exercise**"
      ],
      "metadata": {
        "id": "icutTxpf7yE7"
      }
    },
    {
      "cell_type": "code",
      "source": [
        "# Printing my name\n",
        "print(\"Kingsley Arhin-Wiredu\") # This code print my full name"
      ],
      "metadata": {
        "colab": {
          "base_uri": "https://localhost:8080/"
        },
        "id": "1RGXEuao7vmM",
        "outputId": "ab6eccf4-d61f-44b6-e031-89ea4d3b5db2"
      },
      "execution_count": 15,
      "outputs": [
        {
          "output_type": "stream",
          "name": "stdout",
          "text": [
            "Kingsley Arhin-Wiredu\n"
          ]
        }
      ]
    },
    {
      "cell_type": "markdown",
      "source": [
        "#**Variables**\n",
        "We will learn what variables are in Python, how to store information in your program so you can use it later.\n",
        "\n",
        "A variable is like a labeled box where you can store data (like numbers or words). You give the box a name, and then you can put something inside it or take it out anytime you need it."
      ],
      "metadata": {
        "id": "VlvJ66j4FK4s"
      }
    },
    {
      "cell_type": "markdown",
      "source": [
        "Here, name holds the word \"Kingsley\", and age holds the number 42.\n",
        "This example show how variables store different types of data (a string and a number) and how to print them together."
      ],
      "metadata": {
        "id": "k1aO0dXcG2Uo"
      }
    },
    {
      "cell_type": "markdown",
      "source": [
        "**Example**"
      ],
      "metadata": {
        "id": "zDxLNaAtFvO8"
      }
    },
    {
      "cell_type": "markdown",
      "source": [
        "##**Working with Variables in Python**\n",
        "To use a variable, the first step is choosing a good name for it. Variable names should be:\n",
        "* Short and descriptive: so they clearly represent the data they hold.\n",
        "* Without spaces: for example, age years is not allowed.\n",
        "* Can only include letters, numbers, and underscores: so age_years_42 is okay, but age-years! is not allowed.\n",
        "* Must start with a letter or an underscore, names like 42_age_years are not allowed.\n",
        "*Variable names are case-sensitive (age, Age and AGE are three different variables)\n",
        "* Once you've picked a valid name, you use the assignment operator = to give the variable a value."
      ],
      "metadata": {
        "id": "XUMClMkkHbP6"
      }
    },
    {
      "cell_type": "code",
      "source": [
        "name = \"Kingsley Arhin-Wiredu\"\n",
        "age_years = 42\n",
        "print(name, age_years)"
      ],
      "metadata": {
        "colab": {
          "base_uri": "https://localhost:8080/"
        },
        "id": "8NPJQf4DGEaY",
        "outputId": "db4a0dd8-ea5f-4d11-dded-5185c5df7615"
      },
      "execution_count": 31,
      "outputs": [
        {
          "output_type": "stream",
          "name": "stdout",
          "text": [
            "Kingsley Arhin-Wiredu 42\n"
          ]
        }
      ]
    },
    {
      "cell_type": "code",
      "source": [],
      "metadata": {
        "id": "OHHjI47FG_Lu"
      },
      "execution_count": null,
      "outputs": []
    }
  ]
}